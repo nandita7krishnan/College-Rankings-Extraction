{
 "cells": [
  {
   "cell_type": "code",
   "execution_count": 78,
   "id": "0bd38265",
   "metadata": {},
   "outputs": [],
   "source": [
    "import pandas as pd\n",
    "import requests"
   ]
  },
  {
   "cell_type": "code",
   "execution_count": 79,
   "id": "afa1cfa7",
   "metadata": {},
   "outputs": [],
   "source": [
    "#For India\n",
    "\n",
    "url = \"https://www.webometrics.info/en/asia/India\"\n",
    "\n",
    "r = requests.get(url)\n",
    "df_list = pd.read_html(r.text)\n",
    "#access the first table stored as a dataframe in the list of dataframes in df_list\n",
    "df = df_list[0]\n",
    "\n",
    "#Scroll through all prages and append it to the dataframe df\n",
    "for i in range(1,53):\n",
    "    r = requests.get(url+'?page='+ str(i))\n",
    "    df_list = pd.read_html(r.text) \n",
    "    df = df.append(df_list[0])\n",
    "    \n",
    "#Save it as a excel file\n",
    "df.to_excel('Webometrics_India.xlsx', sheet_name= 'India')"
   ]
  },
  {
   "cell_type": "code",
   "execution_count": 80,
   "id": "f10d61b4",
   "metadata": {},
   "outputs": [],
   "source": [
    "#For China\n",
    "\n",
    "url = \"https://www.webometrics.info/en/Asia/China%20\"\n",
    "\n",
    "r = requests.get(url)\n",
    "df_list = pd.read_html(r.text) \n",
    "df = df_list[0]\n",
    "\n",
    "for i in range(1,26):\n",
    "    r = requests.get(url+'?page='+ str(i))\n",
    "    df_list = pd.read_html(r.text)\n",
    "    df = df.append(df_list[0])\n",
    "df.to_excel('Webometrics_China.xlsx', sheet_name= 'China')"
   ]
  },
  {
   "cell_type": "code",
   "execution_count": 81,
   "id": "fd898c9b",
   "metadata": {},
   "outputs": [],
   "source": [
    "#For Taiwan\n",
    "\n",
    "url = \"https://www.webometrics.info/en/Asia/Taiwan\"\n",
    "\n",
    "r = requests.get(url)\n",
    "df_list = pd.read_html(r.text) \n",
    "df = df_list[0]\n",
    "\n",
    "\n",
    "r = requests.get(url+'?page='+ str(1))\n",
    "df_list = pd.read_html(r.text)\n",
    "df = df.append(df_list[0])\n",
    "\n",
    "df.to_excel('Webometrics_Taiwan.xlsx', sheet_name= 'Taiwan')"
   ]
  },
  {
   "cell_type": "code",
   "execution_count": 82,
   "id": "ee476b33",
   "metadata": {},
   "outputs": [],
   "source": [
    "#For Canada\n",
    "\n",
    "url = \"https://www.webometrics.info/en/North_america/Canada\"\n",
    "\n",
    "r = requests.get(url)\n",
    "df_list = pd.read_html(r.text) \n",
    "df = df_list[0]\n",
    "\n",
    "for i in range(1,4):\n",
    "    r = requests.get(url+'?page='+ str(i))\n",
    "    df_list = pd.read_html(r.text)\n",
    "    df = df.append(df_list[0])\n",
    "\n",
    "df.to_excel('Webometrics_Canada.xlsx', sheet_name= 'Canada')"
   ]
  },
  {
   "cell_type": "code",
   "execution_count": 83,
   "id": "4f558c21",
   "metadata": {},
   "outputs": [],
   "source": [
    "#For USA\n",
    "\n",
    "url = \"https://www.webometrics.info/en/North_america/United%20States%20of%20America\"\n",
    "\n",
    "r = requests.get(url)\n",
    "df_list = pd.read_html(r.text) \n",
    "df = df_list[0]\n",
    "\n",
    "for i in range(1,33):\n",
    "    r = requests.get(url+'?page='+ str(i))\n",
    "    df_list = pd.read_html(r.text)\n",
    "    df = df.append(df_list[0])\n",
    "\n",
    "df.to_excel('Webometrics_USA.xlsx', sheet_name= 'USA')"
   ]
  },
  {
   "cell_type": "code",
   "execution_count": 84,
   "id": "ba8c084f",
   "metadata": {},
   "outputs": [],
   "source": [
    "#For Korea\n",
    "\n",
    "url = \"https://www.webometrics.info/en/asia/republic%20of%20korea\"\n",
    "\n",
    "r = requests.get(url)\n",
    "df_list = pd.read_html(r.text) \n",
    "df = df_list[0]\n",
    "\n",
    "for i in range(1,4):\n",
    "    r = requests.get(url+'?page='+ str(i))\n",
    "    df_list = pd.read_html(r.text)\n",
    "    df = df.append(df_list[0])\n",
    "\n",
    "df.to_excel('Webometrics_Korea.xlsx', sheet_name= 'Korea')"
   ]
  },
  {
   "cell_type": "code",
   "execution_count": null,
   "id": "17e72202",
   "metadata": {},
   "outputs": [],
   "source": []
  }
 ],
 "metadata": {
  "kernelspec": {
   "display_name": "Python 3",
   "language": "python",
   "name": "python3"
  },
  "language_info": {
   "codemirror_mode": {
    "name": "ipython",
    "version": 3
   },
   "file_extension": ".py",
   "mimetype": "text/x-python",
   "name": "python",
   "nbconvert_exporter": "python",
   "pygments_lexer": "ipython3",
   "version": "3.8.8"
  }
 },
 "nbformat": 4,
 "nbformat_minor": 5
}
